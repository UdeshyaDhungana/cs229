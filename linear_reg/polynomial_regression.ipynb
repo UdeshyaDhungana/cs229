{
 "cells": [
  {
   "cell_type": "code",
   "execution_count": null,
   "id": "f3bc7d5a",
   "metadata": {},
   "outputs": [],
   "source": [
    "# LINEAR REGRESSION | DEGREE N | VARIABLE 1"
   ]
  },
  {
   "cell_type": "code",
   "execution_count": 388,
   "id": "a1284d61",
   "metadata": {},
   "outputs": [],
   "source": [
    "# importing necessary libraries and converting to suitable format\n",
    "import pandas as pd\n",
    "import numpy as np\n",
    "import matplotlib.pyplot as plt"
   ]
  },
  {
   "cell_type": "code",
   "execution_count": 389,
   "id": "3de0e880",
   "metadata": {},
   "outputs": [],
   "source": [
    "file = pd.read_csv(\"cubic_dataset.csv\", header=None)"
   ]
  },
  {
   "cell_type": "code",
   "execution_count": 390,
   "id": "9586a32d",
   "metadata": {},
   "outputs": [],
   "source": [
    "# reading and converting to suitable format\n",
    "file = file.to_numpy()\n",
    "dimensions = np.shape(file)[1] - 1\n",
    "n = np.shape(file)[0]\n",
    "X = file[:, 0:dimensions]\n",
    "Y = np.reshape(file[:, dimensions], (n, 1))"
   ]
  },
  {
   "cell_type": "code",
   "execution_count": 391,
   "id": "304830fd",
   "metadata": {},
   "outputs": [
    {
     "data": {
      "image/png": "[encoded data removed]",
      "text/plain": [
       "<Figure size 432x288 with 1 Axes>"
      ]
     },
     "metadata": {
      "needs_background": "light"
     },
     "output_type": "display_data"
    }
   ],
   "source": [
    "# Plotting\n",
    "plt.scatter(X, Y, color='orange')\n",
    "plt.xlabel(\"X\")\n",
    "plt.ylabel(\"Y\")\n",
    "plt.title(\"Initial Data\")\n",
    "plt.show()"
   ]
  },
  {
   "cell_type": "code",
   "execution_count": 392,
   "id": "4ba73d67",
   "metadata": {},
   "outputs": [],
   "source": [
    "# parameters initialization\n",
    "# cubic interpolation\n",
    "degree = 3 \n",
    "t = np.random.rand(degree+1, 1)"
   ]
  },
  {
   "cell_type": "code",
   "execution_count": 393,
   "id": "0569b436",
   "metadata": {},
   "outputs": [],
   "source": [
    "# The gradient descent function for linear equations\n",
    "def gradient_descent(X, Y, theta, learning_rate, num_iters, degree=1):\n",
    "    calc_x = np.copy(X)\n",
    "    first_column = np.copy(X)\n",
    "    n = np.shape(X)[0]\n",
    "    \n",
    "#     appending higher powers\n",
    "    for i in range(2, degree+1):\n",
    "        calc_x = np.append(calc_x, first_column ** i, axis=1)   \n",
    "        \n",
    "#     Stacking column of 1s in front\n",
    "    ones = np.ones((n, 1))\n",
    "    calc_x = np.hstack((ones, calc_x))\n",
    "    \n",
    "#     Normalization\n",
    "    x_max = np.max(calc_x, axis=0)\n",
    "    calc_x = calc_x / x_max\n",
    "    \n",
    "    for i in range(num_iters):\n",
    "        # calculate the current prediction\n",
    "        prediction = np.matmul(calc_x, theta)\n",
    "        # obtain the error\n",
    "        error_vector = Y - prediction\n",
    "        # Update the thetas. Here I've vectorized the operation of updating thetas\n",
    "        theta = theta + (learning_rate)/(n) * np.matmul(np.transpose(calc_x), error_vector)\n",
    "        if (i == num_iters-1):\n",
    "            print(\"Final error = \", np.sum(error_vector))\n",
    "    return theta, x_max"
   ]
  },
  {
   "cell_type": "code",
   "execution_count": 394,
   "id": "e9f6ff01",
   "metadata": {},
   "outputs": [
    {
     "name": "stdout",
     "output_type": "stream",
     "text": [
      "Final error =  3.1432052128792805\n",
      "[[  983.80668903]\n",
      " [-4944.41182141]\n",
      " [ 4093.44462245]\n",
      " [11914.68091804]]\n"
     ]
    }
   ],
   "source": [
    "thetas, xmax = gradient_descent(X, Y, t, 0.5, 5000, degree) # fitting a parabola\n",
    "print(thetas)"
   ]
  },
  {
   "cell_type": "code",
   "execution_count": 395,
   "id": "4ee09935",
   "metadata": {},
   "outputs": [],
   "source": [
    "# The prediction function. It predicts Y from respective X and thetas\n",
    "def predict(X, thetas, xmax):\n",
    "    \"\"\"X is a nxd dimensional array and theta is a dx1 dimensional\"\"\"\n",
    "    n = np.shape(X)[0]\n",
    "    degree = np.shape(thetas)[0] - 1\n",
    "    \n",
    "    calc_x = np.copy(X)\n",
    "    for i in range(2, degree+1):\n",
    "        calc_x = np.append(calc_x, (calc_x[:, 0:1]) ** i, axis=1)\n",
    "    ones = np.ones((n, 1))\n",
    "    calc_x = np.hstack((ones, calc_x))\n",
    "    \n",
    "    calc_x = calc_x / xmax\n",
    "    return np.matmul(calc_x, thetas)"
   ]
  },
  {
   "cell_type": "code",
   "execution_count": 396,
   "id": "e85d081a",
   "metadata": {},
   "outputs": [
    {
     "data": {
      "image/png": "[encoded data removed]",
      "text/plain": [
       "<Figure size 432x288 with 1 Axes>"
      ]
     },
     "metadata": {
      "needs_background": "light"
     },
     "output_type": "display_data"
    }
   ],
   "source": [
    "#Prepare to plot the prediction line\n",
    "rows_xs = np.arange(5, 22.5, 0.1)\n",
    "xs = np.linspace(rows_xs, rows_xs, 1)\n",
    "xs = np.transpose(xs)\n",
    "ys = predict(xs, thetas, x_max)\n",
    "\n",
    "plt.plot(xs, ys)\n",
    "plt.scatter(X, Y, color=\"orange\")\n",
    "plt.xlabel(\"X\")\n",
    "plt.ylabel(\"Y\")\n",
    "plt.title(\"Gradient Descent Prediction\")\n",
    "plt.show()"
   ]
  },
  {
   "cell_type": "code",
   "execution_count": 397,
   "id": "8a6d56b0",
   "metadata": {},
   "outputs": [],
   "source": [
    "# ====================NORMAL EQUATIONS=====================\n",
    "\n",
    "# Normal equation function. It returns suitable value for theta\n",
    "def normal_equations(X, Y, degree):\n",
    "    \"\"\"Given X, Y and thetas, calculates optimal values of thetas\"\"\"\n",
    "    calc_x = np.copy(X)\n",
    "    first_column = np.copy(X)\n",
    "    n = np.shape(X)[0]\n",
    "\n",
    "#     appending higher powers\n",
    "    for i in range(2, degree+1):\n",
    "        calc_x = np.append(calc_x, first_column ** i, axis=1)   \n",
    "\n",
    "#     Stacking column of 1s in front\n",
    "    ones = np.ones((n, 1))\n",
    "    calc_x = np.hstack((ones, calc_x))\n",
    "\n",
    "#     Normalization\n",
    "    x_max = np.max(calc_x, axis=0)\n",
    "    calc_x = calc_x / x_max\n",
    "    \n",
    "    X_T = np.linalg.pinv(calc_x)\n",
    "    intermediate = np.linalg.pinv(np.matmul(X_T, calc_x))\n",
    "    thetas = np.matmul(np.matmul(intermediate, X_T), Y)\n",
    "    return thetas, x_max"
   ]
  },
  {
   "cell_type": "code",
   "execution_count": 398,
   "id": "d84f2e1c",
   "metadata": {},
   "outputs": [
    {
     "data": {
      "image/png": "[encoded data removed]",
      "text/plain": [
       "<Figure size 432x288 with 1 Axes>"
      ]
     },
     "metadata": {
      "needs_background": "light"
     },
     "output_type": "display_data"
    }
   ],
   "source": [
    "#Plotting the prediction curve\n",
    "theta2, xmax = normal_equations(X, Y, 2)\n",
    "ys2 = predict(xs, theta2, xmax)\n",
    "plt.plot(xs, ys2, color=\"green\")\n",
    "plt.scatter(X, Y, color=\"orange\")\n",
    "plt.xlabel(\"X\")\n",
    "plt.ylabel(\"Y\")\n",
    "plt.title(\"Normal Equations Prediction\")\n",
    "plt.show()"
   ]
  }
 ],
 "metadata": {
  "kernelspec": {
   "display_name": "Python 3",
   "language": "python",
   "name": "python3"
  },
  "language_info": {
   "codemirror_mode": {
    "name": "ipython",
    "version": 3
   },
   "file_extension": ".py",
   "mimetype": "text/x-python",
   "name": "python",
   "nbconvert_exporter": "python",
   "pygments_lexer": "ipython3",
   "version": "3.9.5"
  }
 },
 "nbformat": 4,
 "nbformat_minor": 5
}
