{
 "cells": [
  {
   "cell_type": "code",
   "execution_count": 1,
   "id": "e08cdc7e-f7a2-4b92-b0d7-249894e2bae0",
   "metadata": {},
   "outputs": [],
   "source": [
    "import numpy as np\n",
    "import pandas as pd\n",
    "import matplotlib.pyplot as plt"
   ]
  },
  {
   "cell_type": "code",
   "execution_count": 2,
   "id": "c4bfd6f4-e082-4151-862b-61612c86bb14",
   "metadata": {},
   "outputs": [],
   "source": [
    "training_data = pd.read_csv(\"./train.csv\")"
   ]
  },
  {
   "cell_type": "code",
   "execution_count": 3,
   "id": "3fe409c7-86ed-49d2-a015-075990b75607",
   "metadata": {},
   "outputs": [],
   "source": [
    "training_data.dropna(inplace=True)"
   ]
  },
  {
   "cell_type": "code",
   "execution_count": 4,
   "id": "7c1cc005-442b-482a-af17-caf657f558d9",
   "metadata": {},
   "outputs": [],
   "source": [
    "A0 = training_data.to_numpy().T"
   ]
  },
  {
   "cell_type": "code",
   "execution_count": 5,
   "id": "49041359-3179-4d9e-83ed-61cfa5692c98",
   "metadata": {},
   "outputs": [
    {
     "data": {
      "text/plain": [
       "<matplotlib.collections.PathCollection at 0x7f5720579ba8>"
      ]
     },
     "execution_count": 5,
     "metadata": {},
     "output_type": "execute_result"
    },
    {
     "data": {
      "image/png": "[encoded data removed]",
      "text/plain": [
       "<Figure size 432x288 with 1 Axes>"
      ]
     },
     "metadata": {
      "needs_background": "light"
     },
     "output_type": "display_data"
    }
   ],
   "source": [
    "plt.scatter(A0[0], A0[1])"
   ]
  },
  {
   "cell_type": "markdown",
   "id": "f91427ec-a1b3-4405-88fe-8dc485eb5cf7",
   "metadata": {},
   "source": [
    "The data is highly correlated. We hope to see a straight line almost fitting the data"
   ]
  },
  {
   "cell_type": "code",
   "execution_count": 6,
   "id": "4c75502e-7874-4a66-92f8-08d5ab019fa4",
   "metadata": {},
   "outputs": [],
   "source": [
    "A = A0 - A0.mean(axis=1, keepdims=True)"
   ]
  },
  {
   "cell_type": "code",
   "execution_count": 7,
   "id": "f521b26f-927b-499e-a7aa-72f994b6c052",
   "metadata": {},
   "outputs": [],
   "source": [
    "covariance_matrix = A @ A.T / (A.shape[1])"
   ]
  },
  {
   "cell_type": "code",
   "execution_count": 8,
   "id": "178fd581-a08b-4e65-b0b8-b8f08bbd8c7f",
   "metadata": {},
   "outputs": [],
   "source": [
    "u, sigma, vt = np.linalg.svd(covariance_matrix)"
   ]
  },
  {
   "cell_type": "markdown",
   "id": "4ba6872a-45ac-4fb1-8cc4-7b0b07f6580a",
   "metadata": {},
   "source": [
    "Since covariance matrix is positive definite($AA^T$ and $A^TA$ are), diagonalization and svd yield same results.\n",
    "The leading singular vector $u_1$ gives the prediction line. The second singular vector $u_2$ is perpendicular to $u_1$. Its corresponding singular value $\\sigma_2$ gives the measure of spread from the prediction line. If the line fits the data perfectly, $\\sigma_2 = 0$!\n"
   ]
  },
  {
   "cell_type": "code",
   "execution_count": 10,
   "id": "d22f91a1-b27c-46f1-9617-a5c178f9fbce",
   "metadata": {},
   "outputs": [],
   "source": [
    "dominant_vector = u[:,0]"
   ]
  },
  {
   "cell_type": "code",
   "execution_count": 14,
   "id": "0fda505e-b934-49eb-91f8-8f5eda298b23",
   "metadata": {},
   "outputs": [],
   "source": [
    "slope = dominant_vector[1]/dominant_vector[0]"
   ]
  },
  {
   "cell_type": "code",
   "execution_count": 15,
   "id": "22e31e1b-18b8-4269-b018-fa7f87bdcac3",
   "metadata": {},
   "outputs": [],
   "source": [
    "def prediction_line(x):\n",
    "    return x * slope"
   ]
  },
  {
   "cell_type": "code",
   "execution_count": 23,
   "id": "d5fbf7a1-ccd8-4fd6-ad08-740f40e27dfa",
   "metadata": {},
   "outputs": [],
   "source": [
    "xs = np.arange(-50, 50, 1)\n",
    "ys = prediction_line(xs)"
   ]
  },
  {
   "cell_type": "code",
   "execution_count": 25,
   "id": "bf987ef7-6f1e-411b-a19a-14519b04210d",
   "metadata": {},
   "outputs": [
    {
     "data": {
      "text/plain": [
       "<matplotlib.collections.PathCollection at 0x7f571ed31278>"
      ]
     },
     "execution_count": 25,
     "metadata": {},
     "output_type": "execute_result"
    },
    {
     "data": {
      "image/png": "[encoded data removed]",
      "text/plain": [
       "<Figure size 432x288 with 1 Axes>"
      ]
     },
     "metadata": {
      "needs_background": "light"
     },
     "output_type": "display_data"
    }
   ],
   "source": [
    "plt.plot(xs, ys, color='orange')\n",
    "plt.scatter(A[0], A[1], color='blue')"
   ]
  },
  {
   "cell_type": "markdown",
   "id": "05921bb5-bae7-4083-a8e3-5d919ae212a6",
   "metadata": {},
   "source": [
    "__Perfect!__ PCA gives a best fit line where the error is perpendicular distance from point to fit line, unlike least squares where the error is vertical error. See my notes on linear algebra lecture 7 for proof."
   ]
  }
 ],
 "metadata": {
  "kernelspec": {
   "display_name": "Python 3 (ipykernel)",
   "language": "python",
   "name": "python3"
  },
  "language_info": {
   "codemirror_mode": {
    "name": "ipython",
    "version": 3
   },
   "file_extension": ".py",
   "mimetype": "text/x-python",
   "name": "python",
   "nbconvert_exporter": "python",
   "pygments_lexer": "ipython3",
   "version": "3.7.3"
  }
 },
 "nbformat": 4,
 "nbformat_minor": 5
}
