{
 "cells": [
  {
   "cell_type": "code",
   "execution_count": 196,
   "id": "a5494176",
   "metadata": {},
   "outputs": [],
   "source": [
    "# Importing the necessary libraries\n",
    "import pandas as pd\n",
    "import matplotlib.pyplot as plt\n",
    "import numpy as np"
   ]
  },
  {
   "cell_type": "code",
   "execution_count": 197,
   "id": "802b7faf",
   "metadata": {},
   "outputs": [
    {
     "data": {
      "image/png": "[encoded data removed]",
      "text/plain": [
       "<Figure size 432x288 with 1 Axes>"
      ]
     },
     "metadata": {
      "needs_background": "light"
     },
     "output_type": "display_data"
    }
   ],
   "source": [
    "#Reading and visualization\n",
    "\n",
    "file = pd.read_csv(\"data1.csv\", header=None)\n",
    "\n",
    "file = file.to_numpy()\n",
    "\n",
    "def print_scatter(file):\n",
    "    positive_mask = file[:, 2] == 1\n",
    "    negative_mask = file[:, 2] == 0\n",
    "    positives = file[positive_mask, :]\n",
    "    negatives = file[negative_mask, :]\n",
    "    plt.scatter(positives[:, 0], positives[:, 1], color='orange')\n",
    "    plt.scatter(negatives[:, 0], negatives[:, 1], color=\"blue\")\n",
    "    \n",
    "print_scatter(file)"
   ]
  },
  {
   "cell_type": "code",
   "execution_count": 198,
   "id": "bdc5885e",
   "metadata": {},
   "outputs": [],
   "source": [
    "dimensions = np.shape(file)[1] - 1\n",
    "n = np.shape(file)[0]\n",
    "X = file[:, 0:dimensions]\n",
    "Y = np.reshape(file[:, dimensions], (n, 1))\n",
    "\n",
    "# Some formatting and parameters initialization\n",
    "t = np.transpose(np.random.rand(1, dimensions + 1))\n",
    "\n",
    "# Adjust the dimensions of X\n",
    "ones = np.ones((n, 1))\n",
    "X = np.hstack((ones, X))"
   ]
  },
  {
   "cell_type": "code",
   "execution_count": 199,
   "id": "b34913dd",
   "metadata": {},
   "outputs": [],
   "source": [
    "def sigmoid(x):\n",
    "    return 1 / (1 + np.exp(-x))"
   ]
  },
  {
   "cell_type": "code",
   "execution_count": 200,
   "id": "7700a68e",
   "metadata": {},
   "outputs": [],
   "source": [
    "def costFunction(X, thetas, Y):\n",
    "    return np.sum(np.matmul(X, thetas) - Y)"
   ]
  },
  {
   "cell_type": "code",
   "execution_count": 211,
   "id": "9d2b152e",
   "metadata": {},
   "outputs": [],
   "source": [
    "# The gradient descent function for logistic regression\n",
    "# Remember, as you can see the pattern here, this function can be generalized to take a prediction function!\n",
    "# Thank you SICP\n",
    "def gradient_descent(X, Y, theta, learning_rate, num_iters):\n",
    "    n = np.shape(X)[0]\n",
    "    for i in range(num_iters):\n",
    "#         Using schotastic GD\n",
    "        for j in range(n):\n",
    "            example = np.array([X[j]])\n",
    "            prediction = np.apply_along_axis(sigmoid, 0, np.matmul(example, theta))\n",
    "            error = Y[j] - prediction\n",
    "            theta += learning_rate * (error) * (np.transpose(example))\n",
    "    return theta"
   ]
  },
  {
   "cell_type": "code",
   "execution_count": 202,
   "id": "eee608de",
   "metadata": {},
   "outputs": [],
   "source": [
    "# The prediction function. It predicts Y from respective X and thetas\n",
    "def predict(X, thetas):\n",
    "    \"\"\"X is a nxd dimensional array and theta is a dx1 dimensional\"\"\"\n",
    "    ones = np.ones((np.shape(X)[0], 1))\n",
    "# multiply the parameters and features, apply sigmoid function to each of them\n",
    "    prediction = np.apply_along_axis(sigmoid, 0, np.matmul(np.hstack((ones, X)), thetas))\n",
    "#     return 1 if >= 0 else 0\n",
    "    return np.where(prediction >= 0, 1, 0)"
   ]
  },
  {
   "cell_type": "code",
   "execution_count": 225,
   "id": "f0ee29e5",
   "metadata": {
    "scrolled": false
   },
   "outputs": [],
   "source": [
    "thetas = gradient_descent(X, Y, t, 0.1, 3000)"
   ]
  },
  {
   "cell_type": "code",
   "execution_count": 226,
   "id": "b57338eb",
   "metadata": {},
   "outputs": [
    {
     "name": "stdout",
     "output_type": "stream",
     "text": [
      "[[-375.70561715]\n",
      " [   3.08271221]\n",
      " [   3.23130869]]\n"
     ]
    }
   ],
   "source": [
    "print(thetas)"
   ]
  },
  {
   "cell_type": "code",
   "execution_count": 229,
   "id": "1a1ef1f3",
   "metadata": {},
   "outputs": [],
   "source": [
    "def plotDecisionBoundary(thetas, low, high):\n",
    "    theta_dim = np.shape(thetas)[0]\n",
    "    x_coeffs = thetas[:theta_dim-1]\n",
    "    y_coeff = thetas[theta_dim-1][0]\n",
    "    rows_xs = np.arange(low, high, 0.1)\n",
    "    n = np.size(rows_xs)\n",
    "    xs = np.linspace(rows_xs, rows_xs, 1)\n",
    "    xs = np.transpose(xs)\n",
    "    \n",
    "    for i in range(2, theta_dim-1):\n",
    "        xs = np.append(xs, xs[:, 0] ** i, axis=1)\n",
    "    \n",
    "    ones = np.ones((n, 1))\n",
    "    xs = np.hstack((ones, xs))\n",
    "    ys = (np.matmul(xs, x_coeffs))/(-y_coeff)\n",
    "    \n",
    "    plt.plot(xs[:, 1], ys, color='green')\n",
    "    print_scatter(file)\n",
    "    plt.xlabel(\"X\")\n",
    "    plt.ylabel(\"Y\")\n",
    "    plt.title(\"Gradient Descent Prediction\")\n",
    "    plt.show()"
   ]
  },
  {
   "cell_type": "code",
   "execution_count": 230,
   "id": "66462ade",
   "metadata": {},
   "outputs": [
    {
     "data": {
      "image/png": "[encoded data removed]",
      "text/plain": [
       "<Figure size 432x288 with 1 Axes>"
      ]
     },
     "metadata": {
      "needs_background": "light"
     },
     "output_type": "display_data"
    }
   ],
   "source": [
    "plotDecisionBoundary(thetas, 24, 110)"
   ]
  }
 ],
 "metadata": {
  "kernelspec": {
   "display_name": "Python 3",
   "language": "python",
   "name": "python3"
  },
  "language_info": {
   "codemirror_mode": {
    "name": "ipython",
    "version": 3
   },
   "file_extension": ".py",
   "mimetype": "text/x-python",
   "name": "python",
   "nbconvert_exporter": "python",
   "pygments_lexer": "ipython3",
   "version": "3.9.5"
  }
 },
 "nbformat": 4,
 "nbformat_minor": 5
}
