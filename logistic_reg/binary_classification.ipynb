{
 "cells": [
  {
   "cell_type": "code",
   "execution_count": 513,
   "id": "a5494176",
   "metadata": {},
   "outputs": [],
   "source": [
    "# Importing the necessary libraries\n",
    "import pandas as pd\n",
    "import matplotlib.pyplot as plt\n",
    "import numpy as np"
   ]
  },
  {
   "source": [
    "# Visualizing the dataset"
   ],
   "cell_type": "markdown",
   "metadata": {}
  },
  {
   "cell_type": "code",
   "execution_count": 514,
   "id": "dead6547",
   "metadata": {},
   "outputs": [],
   "source": [
    "#Reading and visualization\n",
    "file = pd.read_csv(\"./nonlinear_data.txt\", header=None)\n",
    "\n",
    "# randomizing the data\n",
    "file = file.sample(frac=1, random_state=3)\n",
    "\n",
    "# split index\n",
    "training_set_index = round(len(file) * 0.8)\n",
    "\n",
    "# convert to numpy\n",
    "file = file.to_numpy()\n",
    "\n",
    "# split into train and test set\n",
    "training_set = file[:training_set_index]\n",
    "testing_set = file[training_set_index:]"
   ]
  },
  {
   "cell_type": "code",
   "execution_count": 515,
   "id": "802b7faf",
   "metadata": {},
   "outputs": [],
   "source": [
    "def print_scatter(file, which_set):\n",
    "    positive_mask = file[:, -1] == 1\n",
    "    negative_mask = file[:, -1] == 0\n",
    "    positives = file[positive_mask, :]\n",
    "    negatives = file[negative_mask, :]\n",
    "    plt.scatter(positives[:, 0], positives[:, 1], color='blue')\n",
    "    plt.scatter(negatives[:, 0], negatives[:, 1], color=\"orange\")\n",
    "    plt.title(which_set)"
   ]
  },
  {
   "cell_type": "code",
   "execution_count": 516,
   "id": "1013d294",
   "metadata": {},
   "outputs": [
    {
     "output_type": "display_data",
     "data": {
      "text/plain": "<Figure size 432x288 with 1 Axes>",
      "image/svg+xml": "<?xml version=\"1.0\" encoding=\"utf-8\" standalone=\"no\"?>\n<!DOCTYPE svg PUBLIC \"-//W3C//DTD SVG 1.1//EN\"\n  \"http://www.w3.org/Graphics/SVG/1.1/DTD/svg11.dtd\">\n<svg height=\"263.63625pt\" version=\"1.1\" viewBox=\"0 0 386.845313 263.63625\" width=\"386.845313pt\" xmlns=\"http://www.w3.org/2000/svg\" xmlns:xlink=\"http://www.w3.org/1999/xlink\">\n <metadata>\n  <rdf:RDF xmlns:cc=\"http://creativecommons.org/ns#\" xmlns:dc=\"http://purl.org/dc/elements/1.1/\" xmlns:rdf=\"http://www.w3.org/1999/02/22-rdf-syntax-ns#\">\n   <cc:Work>\n    <dc:type rdf:resource=\"http://purl.org/dc/dcmitype/StillImage\"/>\n    <dc:date>2021-07-19T16:44:29.963431</dc:date>\n    <dc:format>image/svg+xml</dc:format>\n    <dc:creator>\n     <cc:Agent>\n      <dc:title>Matplotlib v3.4.2, https://matplotlib.org/</dc:title>\n     </cc:Agent>\n    </dc:creator>\n   </cc:Work>\n  </rdf:RDF>\n </metadata>\n <defs>\n  <style type=\"text/css\">*{stroke-linecap:butt;stroke-linejoin:round;}</style>\n </defs>\n <g id=\"figure_1\">\n  <g id=\"patch_1\">\n   <path d=\"M 0 263.63625 \nL 386.845313 263.63625 \nL 386.845313 0 \nL 0 0 \nz\n\" style=\"fill:none;\"/>\n  </g>\n  <g id=\"axes_1\">\n   <g id=\"patch_2\">\n    <path d=\"M 44.845313 239.758125 \nL 379.645313 239.758125 \nL 379.645313 22.318125 \nL 44.845313 22.318125 \nz\n\" style=\"fill:#ffffff;\"/>\n   </g>\n   <g id=\"PathCollection_1\">\n    <defs>\n     <path d=\"M 0 3 \nC 0.795609 3 1.55874 2.683901 2.12132 2.12132 \nC 2.683901 1.55874 3 0.795609 3 0 \nC 3 -0.795609 2.683901 -1.55874 2.12132 -2.12132 \nC 1.55874 -2.683901 0.795609 -3 0 -3 \nC -0.795609 -3 -1.55874 -2.683901 -2.12132 -2.12132 \nC -2.683901 -1.55874 -3 -0.795609 -3 0 \nC -3 0.795609 -2.683901 1.55874 -2.12132 2.12132 \nC -1.55874 2.683901 -0.795609 3 0 3 \nz\n\" id=\"mbbd3880247\" style=\"stroke:#0000ff;\"/>\n    </defs>\n    <g clip-path=\"url(#p21b2804a03)\">\n     <use style=\"fill:#0000ff;stroke:#0000ff;\" x=\"129.235665\" xlink:href=\"#mbbd3880247\" y=\"145.266449\"/>\n     <use style=\"fill:#0000ff;stroke:#0000ff;\" x=\"225.154153\" xlink:href=\"#mbbd3880247\" y=\"212.183651\"/>\n     <use style=\"fill:#0000ff;stroke:#0000ff;\" x=\"296.170787\" xlink:href=\"#mbbd3880247\" y=\"163.726138\"/>\n     <use style=\"fill:#0000ff;stroke:#0000ff;\" x=\"108.94497\" xlink:href=\"#mbbd3880247\" y=\"126.806129\"/>\n     <use style=\"fill:#0000ff;stroke:#0000ff;\" x=\"239.909858\" xlink:href=\"#mbbd3880247\" y=\"172.956141\"/>\n     <use style=\"fill:#0000ff;stroke:#0000ff;\" x=\"195.640341\" xlink:href=\"#mbbd3880247\" y=\"191.416145\"/>\n     <use style=\"fill:#0000ff;stroke:#0000ff;\" x=\"185.495153\" xlink:href=\"#mbbd3880247\" y=\"62.966331\"/>\n     <use style=\"fill:#0000ff;stroke:#0000ff;\" x=\"110.789433\" xlink:href=\"#mbbd3880247\" y=\"99.886341\"/>\n     <use style=\"fill:#0000ff;stroke:#0000ff;\" x=\"295.246954\" xlink:href=\"#mbbd3880247\" y=\"174.494474\"/>\n     <use style=\"fill:#0000ff;stroke:#0000ff;\" x=\"134.769055\" xlink:href=\"#mbbd3880247\" y=\"116.038845\"/>\n     <use style=\"fill:#0000ff;stroke:#0000ff;\" x=\"285.102407\" xlink:href=\"#mbbd3880247\" y=\"120.653846\"/>\n     <use style=\"fill:#0000ff;stroke:#0000ff;\" x=\"228.843079\" xlink:href=\"#mbbd3880247\" y=\"93.733006\"/>\n     <use style=\"fill:#0000ff;stroke:#0000ff;\" x=\"125.546739\" xlink:href=\"#mbbd3880247\" y=\"177.571142\"/>\n     <use style=\"fill:#0000ff;stroke:#0000ff;\" x=\"244.521016\" xlink:href=\"#mbbd3880247\" y=\"87.579671\"/>\n     <use style=\"fill:#0000ff;stroke:#0000ff;\" x=\"214.085773\" xlink:href=\"#mbbd3880247\" y=\"202.953648\"/>\n     <use style=\"fill:#0000ff;stroke:#0000ff;\" x=\"170.739288\" xlink:href=\"#mbbd3880247\" y=\"177.571142\"/>\n     <use style=\"fill:#0000ff;stroke:#0000ff;\" x=\"150.448592\" xlink:href=\"#mbbd3880247\" y=\"47.582994\"/>\n     <use style=\"fill:#0000ff;stroke:#0000ff;\" x=\"310.926492\" xlink:href=\"#mbbd3880247\" y=\"168.34114\"/>\n     <use style=\"fill:#0000ff;stroke:#0000ff;\" x=\"167.048761\" xlink:href=\"#mbbd3880247\" y=\"64.504665\"/>\n     <use style=\"fill:#0000ff;stroke:#0000ff;\" x=\"215.008004\" xlink:href=\"#mbbd3880247\" y=\"88.348838\"/>\n     <use style=\"fill:#0000ff;stroke:#0000ff;\" x=\"277.724554\" xlink:href=\"#mbbd3880247\" y=\"203.722815\"/>\n     <use style=\"fill:#0000ff;stroke:#0000ff;\" x=\"165.204298\" xlink:href=\"#mbbd3880247\" y=\"80.657169\"/>\n     <use style=\"fill:#0000ff;stroke:#0000ff;\" x=\"178.11682\" xlink:href=\"#mbbd3880247\" y=\"90.656339\"/>\n     <use style=\"fill:#0000ff;stroke:#0000ff;\" x=\"219.619162\" xlink:href=\"#mbbd3880247\" y=\"92.194672\"/>\n     <use style=\"fill:#0000ff;stroke:#0000ff;\" x=\"300.781945\" xlink:href=\"#mbbd3880247\" y=\"205.261149\"/>\n     <use style=\"fill:#0000ff;stroke:#0000ff;\" x=\"144.913602\" xlink:href=\"#mbbd3880247\" y=\"146.035616\"/>\n     <use style=\"fill:#0000ff;stroke:#0000ff;\" x=\"155.05975\" xlink:href=\"#mbbd3880247\" y=\"171.417807\"/>\n     <use style=\"fill:#0000ff;stroke:#0000ff;\" x=\"122.780044\" xlink:href=\"#mbbd3880247\" y=\"126.036962\"/>\n     <use style=\"fill:#0000ff;stroke:#0000ff;\" x=\"159.670908\" xlink:href=\"#mbbd3880247\" y=\"111.423844\"/>\n     <use style=\"fill:#0000ff;stroke:#0000ff;\" x=\"309.082029\" xlink:href=\"#mbbd3880247\" y=\"102.193842\"/>\n     <use style=\"fill:#0000ff;stroke:#0000ff;\" x=\"165.204298\" xlink:href=\"#mbbd3880247\" y=\"75.273001\"/>\n     <use style=\"fill:#0000ff;stroke:#0000ff;\" x=\"159.670908\" xlink:href=\"#mbbd3880247\" y=\"130.651963\"/>\n     <use style=\"fill:#0000ff;stroke:#0000ff;\" x=\"170.739288\" xlink:href=\"#mbbd3880247\" y=\"91.425505\"/>\n     <use style=\"fill:#0000ff;stroke:#0000ff;\" x=\"244.521016\" xlink:href=\"#mbbd3880247\" y=\"76.042168\"/>\n     <use style=\"fill:#0000ff;stroke:#0000ff;\" x=\"182.728298\" xlink:href=\"#mbbd3880247\" y=\"168.34114\"/>\n     <use style=\"fill:#0000ff;stroke:#0000ff;\" x=\"263.88948\" xlink:href=\"#mbbd3880247\" y=\"78.349669\"/>\n     <use style=\"fill:#0000ff;stroke:#0000ff;\" x=\"147.681898\" xlink:href=\"#mbbd3880247\" y=\"99.117174\"/>\n     <use style=\"fill:#0000ff;stroke:#0000ff;\" x=\"266.656175\" xlink:href=\"#mbbd3880247\" y=\"147.57395\"/>\n     <use style=\"fill:#0000ff;stroke:#0000ff;\" x=\"143.99137\" xlink:href=\"#mbbd3880247\" y=\"169.110306\"/>\n     <use style=\"fill:#0000ff;stroke:#0000ff;\" x=\"145.837435\" xlink:href=\"#mbbd3880247\" y=\"66.812166\"/>\n     <use style=\"fill:#0000ff;stroke:#0000ff;\" x=\"191.951191\" xlink:href=\"#mbbd3880247\" y=\"106.808843\"/>\n     <use style=\"fill:#0000ff;stroke:#0000ff;\" x=\"178.11682\" xlink:href=\"#mbbd3880247\" y=\"76.811335\"/>\n     <use style=\"fill:#0000ff;stroke:#0000ff;\" x=\"158.748677\" xlink:href=\"#mbbd3880247\" y=\"76.042168\"/>\n     <use style=\"fill:#0000ff;stroke:#0000ff;\" x=\"97.878191\" xlink:href=\"#mbbd3880247\" y=\"148.343117\"/>\n     <use style=\"fill:#0000ff;stroke:#0000ff;\" x=\"267.578406\" xlink:href=\"#mbbd3880247\" y=\"205.261149\"/>\n     <use style=\"fill:#0000ff;stroke:#0000ff;\" x=\"280.491249\" xlink:href=\"#mbbd3880247\" y=\"97.57884\"/>\n     <use style=\"fill:#0000ff;stroke:#0000ff;\" x=\"229.765311\" xlink:href=\"#mbbd3880247\" y=\"192.185312\"/>\n     <use style=\"fill:#0000ff;stroke:#0000ff;\" x=\"293.402491\" xlink:href=\"#mbbd3880247\" y=\"132.190297\"/>\n     <use style=\"fill:#0000ff;stroke:#0000ff;\" x=\"96.033728\" xlink:href=\"#mbbd3880247\" y=\"86.041337\"/>\n     <use style=\"fill:#0000ff;stroke:#0000ff;\" x=\"203.018674\" xlink:href=\"#mbbd3880247\" y=\"166.033639\"/>\n     <use style=\"fill:#0000ff;stroke:#0000ff;\" x=\"254.667164\" xlink:href=\"#mbbd3880247\" y=\"208.337816\"/>\n     <use style=\"fill:#0000ff;stroke:#0000ff;\" x=\"270.345101\" xlink:href=\"#mbbd3880247\" y=\"168.34114\"/>\n     <use style=\"fill:#0000ff;stroke:#0000ff;\" x=\"116.322822\" xlink:href=\"#mbbd3880247\" y=\"82.195503\"/>\n     <use style=\"fill:#0000ff;stroke:#0000ff;\" x=\"92.3432\" xlink:href=\"#mbbd3880247\" y=\"113.731344\"/>\n     <use style=\"fill:#0000ff;stroke:#0000ff;\" x=\"201.174051\" xlink:href=\"#mbbd3880247\" y=\"75.273001\"/>\n     <use style=\"fill:#0000ff;stroke:#0000ff;\" x=\"157.826445\" xlink:href=\"#mbbd3880247\" y=\"150.650617\"/>\n     <use style=\"fill:#0000ff;stroke:#0000ff;\" x=\"132.924592\" xlink:href=\"#mbbd3880247\" y=\"96.040507\"/>\n     <use style=\"fill:#0000ff;stroke:#0000ff;\" x=\"174.428214\" xlink:href=\"#mbbd3880247\" y=\"190.646979\"/>\n    </g>\n   </g>\n   <g id=\"PathCollection_2\">\n    <defs>\n     <path d=\"M 0 3 \nC 0.795609 3 1.55874 2.683901 2.12132 2.12132 \nC 2.683901 1.55874 3 0.795609 3 0 \nC 3 -0.795609 2.683901 -1.55874 2.12132 -2.12132 \nC 1.55874 -2.683901 0.795609 -3 0 -3 \nC -0.795609 -3 -1.55874 -2.683901 -2.12132 -2.12132 \nC -2.683901 -1.55874 -3 -0.795609 -3 0 \nC -3 0.795609 -2.683901 1.55874 -2.12132 2.12132 \nC -1.55874 2.683901 -0.795609 3 0 3 \nz\n\" id=\"mb8ad14471e\" style=\"stroke:#ffa500;\"/>\n    </defs>\n    <g clip-path=\"url(#p21b2804a03)\">\n     <use style=\"fill:#ffa500;stroke:#ffa500;\" x=\"364.427131\" xlink:href=\"#mb8ad14471e\" y=\"138.343632\"/>\n     <use style=\"fill:#ffa500;stroke:#ffa500;\" x=\"176.272677\" xlink:href=\"#mb8ad14471e\" y=\"44.506327\"/>\n     <use style=\"fill:#ffa500;stroke:#ffa500;\" x=\"216.852468\" xlink:href=\"#mb8ad14471e\" y=\"209.87615\"/>\n     <use style=\"fill:#ffa500;stroke:#ffa500;\" x=\"295.246954\" xlink:href=\"#mb8ad14471e\" y=\"55.274663\"/>\n     <use style=\"fill:#ffa500;stroke:#ffa500;\" x=\"95.109895\" xlink:href=\"#mb8ad14471e\" y=\"156.03468\"/>\n     <use style=\"fill:#ffa500;stroke:#ffa500;\" x=\"324.761567\" xlink:href=\"#mb8ad14471e\" y=\"79.118836\"/>\n     <use style=\"fill:#ffa500;stroke:#ffa500;\" x=\"130.157897\" xlink:href=\"#mb8ad14471e\" y=\"176.032808\"/>\n     <use style=\"fill:#ffa500;stroke:#ffa500;\" x=\"77.587495\" xlink:href=\"#mb8ad14471e\" y=\"92.194672\"/>\n     <use style=\"fill:#ffa500;stroke:#ffa500;\" x=\"115.400591\" xlink:href=\"#mb8ad14471e\" y=\"43.73716\"/>\n     <use style=\"fill:#ffa500;stroke:#ffa500;\" x=\"300.781945\" xlink:href=\"#mb8ad14471e\" y=\"81.426336\"/>\n     <use style=\"fill:#ffa500;stroke:#ffa500;\" x=\"96.955959\" xlink:href=\"#mb8ad14471e\" y=\"192.954479\"/>\n     <use style=\"fill:#ffa500;stroke:#ffa500;\" x=\"168.893224\" xlink:href=\"#mb8ad14471e\" y=\"187.570311\"/>\n     <use style=\"fill:#ffa500;stroke:#ffa500;\" x=\"249.133775\" xlink:href=\"#mb8ad14471e\" y=\"209.87615\"/>\n     <use style=\"fill:#ffa500;stroke:#ffa500;\" x=\"320.148808\" xlink:href=\"#mb8ad14471e\" y=\"207.56865\"/>\n     <use style=\"fill:#ffa500;stroke:#ffa500;\" x=\"81.276421\" xlink:href=\"#mb8ad14471e\" y=\"144.497282\"/>\n     <use style=\"fill:#ffa500;stroke:#ffa500;\" x=\"274.035628\" xlink:href=\"#mb8ad14471e\" y=\"69.119666\"/>\n     <use style=\"fill:#ffa500;stroke:#ffa500;\" x=\"73.898569\" xlink:href=\"#mb8ad14471e\" y=\"176.032808\"/>\n     <use style=\"fill:#ffa500;stroke:#ffa500;\" x=\"329.372724\" xlink:href=\"#mb8ad14471e\" y=\"187.570311\"/>\n     <use style=\"fill:#ffa500;stroke:#ffa500;\" x=\"72.054106\" xlink:href=\"#mb8ad14471e\" y=\"118.346346\"/>\n     <use style=\"fill:#ffa500;stroke:#ffa500;\" x=\"179.961444\" xlink:href=\"#mb8ad14471e\" y=\"32.201761\"/>\n     <use style=\"fill:#ffa500;stroke:#ffa500;\" x=\"228.843079\" xlink:href=\"#mb8ad14471e\" y=\"66.812166\"/>\n     <use style=\"fill:#ffa500;stroke:#ffa500;\" x=\"256.511627\" xlink:href=\"#mb8ad14471e\" y=\"62.197165\"/>\n     <use style=\"fill:#ffa500;stroke:#ffa500;\" x=\"222.387458\" xlink:href=\"#mb8ad14471e\" y=\"50.659662\"/>\n     <use style=\"fill:#ffa500;stroke:#ffa500;\" x=\"86.809811\" xlink:href=\"#mb8ad14471e\" y=\"171.417807\"/>\n     <use style=\"fill:#ffa500;stroke:#ffa500;\" x=\"209.474615\" xlink:href=\"#mb8ad14471e\" y=\"66.812166\"/>\n     <use style=\"fill:#ffa500;stroke:#ffa500;\" x=\"81.276421\" xlink:href=\"#mb8ad14471e\" y=\"76.811335\"/>\n     <use style=\"fill:#ffa500;stroke:#ffa500;\" x=\"341.361735\" xlink:href=\"#mb8ad14471e\" y=\"110.654677\"/>\n     <use style=\"fill:#ffa500;stroke:#ffa500;\" x=\"336.750577\" xlink:href=\"#mb8ad14471e\" y=\"170.64864\"/>\n     <use style=\"fill:#ffa500;stroke:#ffa500;\" x=\"128.313434\" xlink:href=\"#mb8ad14471e\" y=\"74.503834\"/>\n     <use style=\"fill:#ffa500;stroke:#ffa500;\" x=\"127.391202\" xlink:href=\"#mb8ad14471e\" y=\"192.185312\"/>\n     <use style=\"fill:#ffa500;stroke:#ffa500;\" x=\"294.259078\" xlink:href=\"#mb8ad14471e\" y=\"152.102564\"/>\n     <use style=\"fill:#ffa500;stroke:#ffa500;\" x=\"275.880091\" xlink:href=\"#mb8ad14471e\" y=\"211.414484\"/>\n     <use style=\"fill:#ffa500;stroke:#ffa500;\" x=\"132.00236\" xlink:href=\"#mb8ad14471e\" y=\"52.197995\"/>\n     <use style=\"fill:#ffa500;stroke:#ffa500;\" x=\"267.578406\" xlink:href=\"#mb8ad14471e\" y=\"192.954479\"/>\n     <use style=\"fill:#ffa500;stroke:#ffa500;\" x=\"155.05975\" xlink:href=\"#mb8ad14471e\" y=\"216.029485\"/>\n     <use style=\"fill:#ffa500;stroke:#ffa500;\" x=\"343.206198\" xlink:href=\"#mb8ad14471e\" y=\"147.57395\"/>\n     <use style=\"fill:#ffa500;stroke:#ffa500;\" x=\"346.896725\" xlink:href=\"#mb8ad14471e\" y=\"139.882386\"/>\n     <use style=\"fill:#ffa500;stroke:#ffa500;\" x=\"97.878191\" xlink:href=\"#mb8ad14471e\" y=\"96.809673\"/>\n     <use style=\"fill:#ffa500;stroke:#ffa500;\" x=\"238.987626\" xlink:href=\"#mb8ad14471e\" y=\"229.874489\"/>\n     <use style=\"fill:#ffa500;stroke:#ffa500;\" x=\"105.256043\" xlink:href=\"#mb8ad14471e\" y=\"74.503834\"/>\n     <use style=\"fill:#ffa500;stroke:#ffa500;\" x=\"315.53765\" xlink:href=\"#mb8ad14471e\" y=\"96.040507\"/>\n     <use style=\"fill:#ffa500;stroke:#ffa500;\" x=\"60.063494\" xlink:href=\"#mb8ad14471e\" y=\"116.038845\"/>\n     <use style=\"fill:#ffa500;stroke:#ffa500;\" x=\"114.478359\" xlink:href=\"#mb8ad14471e\" y=\"180.647809\"/>\n     <use style=\"fill:#ffa500;stroke:#ffa500;\" x=\"185.495153\" xlink:href=\"#mb8ad14471e\" y=\"209.87615\"/>\n     <use style=\"fill:#ffa500;stroke:#ffa500;\" x=\"206.70776\" xlink:href=\"#mb8ad14471e\" y=\"228.336155\"/>\n     <use style=\"fill:#ffa500;stroke:#ffa500;\" x=\"291.558028\" xlink:href=\"#mb8ad14471e\" y=\"72.196334\"/>\n     <use style=\"fill:#ffa500;stroke:#ffa500;\" x=\"191.951191\" xlink:href=\"#mb8ad14471e\" y=\"43.73716\"/>\n     <use style=\"fill:#ffa500;stroke:#ffa500;\" x=\"331.217188\" xlink:href=\"#mb8ad14471e\" y=\"157.573014\"/>\n     <use style=\"fill:#ffa500;stroke:#ffa500;\" x=\"240.832089\" xlink:href=\"#mb8ad14471e\" y=\"83.733837\"/>\n     <use style=\"fill:#ffa500;stroke:#ffa500;\" x=\"289.713565\" xlink:href=\"#mb8ad14471e\" y=\"86.041337\"/>\n     <use style=\"fill:#ffa500;stroke:#ffa500;\" x=\"324.761567\" xlink:href=\"#mb8ad14471e\" y=\"119.884679\"/>\n     <use style=\"fill:#ffa500;stroke:#ffa500;\" x=\"111.711664\" xlink:href=\"#mb8ad14471e\" y=\"53.736329\"/>\n     <use style=\"fill:#ffa500;stroke:#ffa500;\" x=\"171.66152\" xlink:href=\"#mb8ad14471e\" y=\"196.031147\"/>\n     <use style=\"fill:#ffa500;stroke:#ffa500;\" x=\"202.096442\" xlink:href=\"#mb8ad14471e\" y=\"52.197995\"/>\n     <use style=\"fill:#ffa500;stroke:#ffa500;\" x=\"238.987626\" xlink:href=\"#mb8ad14471e\" y=\"34.506105\"/>\n     <use style=\"fill:#ffa500;stroke:#ffa500;\" x=\"76.665264\" xlink:href=\"#mb8ad14471e\" y=\"157.573014\"/>\n     <use style=\"fill:#ffa500;stroke:#ffa500;\" x=\"146.759666\" xlink:href=\"#mb8ad14471e\" y=\"155.265619\"/>\n     <use style=\"fill:#ffa500;stroke:#ffa500;\" x=\"287.869102\" xlink:href=\"#mb8ad14471e\" y=\"226.797821\"/>\n     <use style=\"fill:#ffa500;stroke:#ffa500;\" x=\"325.683798\" xlink:href=\"#mb8ad14471e\" y=\"203.722815\"/>\n     <use style=\"fill:#ffa500;stroke:#ffa500;\" x=\"118.167285\" xlink:href=\"#mb8ad14471e\" y=\"162.956972\"/>\n    </g>\n   </g>\n   <g id=\"matplotlib.axis_1\">\n    <g id=\"xtick_1\">\n     <g id=\"line2d_1\">\n      <defs>\n       <path d=\"M 0 0 \nL 0 3.5 \n\" id=\"m8fff304045\" style=\"stroke:#000000;stroke-width:0.8;\"/>\n      </defs>\n      <g>\n       <use style=\"stroke:#000000;stroke-width:0.8;\" x=\"72.883474\" xlink:href=\"#m8fff304045\" y=\"239.758125\"/>\n      </g>\n     </g>\n     <g id=\"text_1\">\n      <!-- −0.75 -->\n      <g transform=\"translate(57.560818 254.356563)scale(0.1 -0.1)\">\n       <defs>\n        <path d=\"M 678 2272 \nL 4684 2272 \nL 4684 1741 \nL 678 1741 \nL 678 2272 \nz\n\" id=\"DejaVuSans-2212\" transform=\"scale(0.015625)\"/>\n        <path d=\"M 2034 4250 \nQ 1547 4250 1301 3770 \nQ 1056 3291 1056 2328 \nQ 1056 1369 1301 889 \nQ 1547 409 2034 409 \nQ 2525 409 2770 889 \nQ 3016 1369 3016 2328 \nQ 3016 3291 2770 3770 \nQ 2525 4250 2034 4250 \nz\nM 2034 4750 \nQ 2819 4750 3233 4129 \nQ 3647 3509 3647 2328 \nQ 3647 1150 3233 529 \nQ 2819 -91 2034 -91 \nQ 1250 -91 836 529 \nQ 422 1150 422 2328 \nQ 422 3509 836 4129 \nQ 1250 4750 2034 4750 \nz\n\" id=\"DejaVuSans-30\" transform=\"scale(0.015625)\"/>\n        <path d=\"M 684 794 \nL 1344 794 \nL 1344 0 \nL 684 0 \nL 684 794 \nz\n\" id=\"DejaVuSans-2e\" transform=\"scale(0.015625)\"/>\n        <path d=\"M 525 4666 \nL 3525 4666 \nL 3525 4397 \nL 1831 0 \nL 1172 0 \nL 2766 4134 \nL 525 4134 \nL 525 4666 \nz\n\" id=\"DejaVuSans-37\" transform=\"scale(0.015625)\"/>\n        <path d=\"M 691 4666 \nL 3169 4666 \nL 3169 4134 \nL 1269 4134 \nL 1269 2991 \nQ 1406 3038 1543 3061 \nQ 1681 3084 1819 3084 \nQ 2600 3084 3056 2656 \nQ 3513 2228 3513 1497 \nQ 3513 744 3044 326 \nQ 2575 -91 1722 -91 \nQ 1428 -91 1123 -41 \nQ 819 9 494 109 \nL 494 744 \nQ 775 591 1075 516 \nQ 1375 441 1709 441 \nQ 2250 441 2565 725 \nQ 2881 1009 2881 1497 \nQ 2881 1984 2565 2268 \nQ 2250 2553 1709 2553 \nQ 1456 2553 1204 2497 \nQ 953 2441 691 2322 \nL 691 4666 \nz\n\" id=\"DejaVuSans-35\" transform=\"scale(0.015625)\"/>\n       </defs>\n       <use xlink:href=\"#DejaVuSans-2212\"/>\n       <use x=\"83.789062\" xlink:href=\"#DejaVuSans-30\"/>\n       <use x=\"147.412109\" xlink:href=\"#DejaVuSans-2e\"/>\n       <use x=\"179.199219\" xlink:href=\"#DejaVuSans-37\"/>\n       <use x=\"242.822266\" xlink:href=\"#DejaVuSans-35\"/>\n      </g>\n     </g>\n    </g>\n    <g id=\"xtick_2\">\n     <g id=\"line2d_2\">\n      <g>\n       <use style=\"stroke:#000000;stroke-width:0.8;\" x=\"112.910886\" xlink:href=\"#m8fff304045\" y=\"239.758125\"/>\n      </g>\n     </g>\n     <g id=\"text_2\">\n      <!-- −0.50 -->\n      <g transform=\"translate(97.588229 254.356563)scale(0.1 -0.1)\">\n       <use xlink:href=\"#DejaVuSans-2212\"/>\n       <use x=\"83.789062\" xlink:href=\"#DejaVuSans-30\"/>\n       <use x=\"147.412109\" xlink:href=\"#DejaVuSans-2e\"/>\n       <use x=\"179.199219\" xlink:href=\"#DejaVuSans-35\"/>\n       <use x=\"242.822266\" xlink:href=\"#DejaVuSans-30\"/>\n      </g>\n     </g>\n    </g>\n    <g id=\"xtick_3\">\n     <g id=\"line2d_3\">\n      <g>\n       <use style=\"stroke:#000000;stroke-width:0.8;\" x=\"152.938297\" xlink:href=\"#m8fff304045\" y=\"239.758125\"/>\n      </g>\n     </g>\n     <g id=\"text_3\">\n      <!-- −0.25 -->\n      <g transform=\"translate(137.615641 254.356563)scale(0.1 -0.1)\">\n       <defs>\n        <path d=\"M 1228 531 \nL 3431 531 \nL 3431 0 \nL 469 0 \nL 469 531 \nQ 828 903 1448 1529 \nQ 2069 2156 2228 2338 \nQ 2531 2678 2651 2914 \nQ 2772 3150 2772 3378 \nQ 2772 3750 2511 3984 \nQ 2250 4219 1831 4219 \nQ 1534 4219 1204 4116 \nQ 875 4013 500 3803 \nL 500 4441 \nQ 881 4594 1212 4672 \nQ 1544 4750 1819 4750 \nQ 2544 4750 2975 4387 \nQ 3406 4025 3406 3419 \nQ 3406 3131 3298 2873 \nQ 3191 2616 2906 2266 \nQ 2828 2175 2409 1742 \nQ 1991 1309 1228 531 \nz\n\" id=\"DejaVuSans-32\" transform=\"scale(0.015625)\"/>\n       </defs>\n       <use xlink:href=\"#DejaVuSans-2212\"/>\n       <use x=\"83.789062\" xlink:href=\"#DejaVuSans-30\"/>\n       <use x=\"147.412109\" xlink:href=\"#DejaVuSans-2e\"/>\n       <use x=\"179.199219\" xlink:href=\"#DejaVuSans-32\"/>\n       <use x=\"242.822266\" xlink:href=\"#DejaVuSans-35\"/>\n      </g>\n     </g>\n    </g>\n    <g id=\"xtick_4\">\n     <g id=\"line2d_4\">\n      <g>\n       <use style=\"stroke:#000000;stroke-width:0.8;\" x=\"192.965709\" xlink:href=\"#m8fff304045\" y=\"239.758125\"/>\n      </g>\n     </g>\n     <g id=\"text_4\">\n      <!-- 0.00 -->\n      <g transform=\"translate(181.832897 254.356563)scale(0.1 -0.1)\">\n       <use xlink:href=\"#DejaVuSans-30\"/>\n       <use x=\"63.623047\" xlink:href=\"#DejaVuSans-2e\"/>\n       <use x=\"95.410156\" xlink:href=\"#DejaVuSans-30\"/>\n       <use x=\"159.033203\" xlink:href=\"#DejaVuSans-30\"/>\n      </g>\n     </g>\n    </g>\n    <g id=\"xtick_5\">\n     <g id=\"line2d_5\">\n      <g>\n       <use style=\"stroke:#000000;stroke-width:0.8;\" x=\"232.993121\" xlink:href=\"#m8fff304045\" y=\"239.758125\"/>\n      </g>\n     </g>\n     <g id=\"text_5\">\n      <!-- 0.25 -->\n      <g transform=\"translate(221.860309 254.356563)scale(0.1 -0.1)\">\n       <use xlink:href=\"#DejaVuSans-30\"/>\n       <use x=\"63.623047\" xlink:href=\"#DejaVuSans-2e\"/>\n       <use x=\"95.410156\" xlink:href=\"#DejaVuSans-32\"/>\n       <use x=\"159.033203\" xlink:href=\"#DejaVuSans-35\"/>\n      </g>\n     </g>\n    </g>\n    <g id=\"xtick_6\">\n     <g id=\"line2d_6\">\n      <g>\n       <use style=\"stroke:#000000;stroke-width:0.8;\" x=\"273.020533\" xlink:href=\"#m8fff304045\" y=\"239.758125\"/>\n      </g>\n     </g>\n     <g id=\"text_6\">\n      <!-- 0.50 -->\n      <g transform=\"translate(261.88772 254.356563)scale(0.1 -0.1)\">\n       <use xlink:href=\"#DejaVuSans-30\"/>\n       <use x=\"63.623047\" xlink:href=\"#DejaVuSans-2e\"/>\n       <use x=\"95.410156\" xlink:href=\"#DejaVuSans-35\"/>\n       <use x=\"159.033203\" xlink:href=\"#DejaVuSans-30\"/>\n      </g>\n     </g>\n    </g>\n    <g id=\"xtick_7\">\n     <g id=\"line2d_7\">\n      <g>\n       <use style=\"stroke:#000000;stroke-width:0.8;\" x=\"313.047945\" xlink:href=\"#m8fff304045\" y=\"239.758125\"/>\n      </g>\n     </g>\n     <g id=\"text_7\">\n      <!-- 0.75 -->\n      <g transform=\"translate(301.915132 254.356563)scale(0.1 -0.1)\">\n       <use xlink:href=\"#DejaVuSans-30\"/>\n       <use x=\"63.623047\" xlink:href=\"#DejaVuSans-2e\"/>\n       <use x=\"95.410156\" xlink:href=\"#DejaVuSans-37\"/>\n       <use x=\"159.033203\" xlink:href=\"#DejaVuSans-35\"/>\n      </g>\n     </g>\n    </g>\n    <g id=\"xtick_8\">\n     <g id=\"line2d_8\">\n      <g>\n       <use style=\"stroke:#000000;stroke-width:0.8;\" x=\"353.075357\" xlink:href=\"#m8fff304045\" y=\"239.758125\"/>\n      </g>\n     </g>\n     <g id=\"text_8\">\n      <!-- 1.00 -->\n      <g transform=\"translate(341.942544 254.356563)scale(0.1 -0.1)\">\n       <defs>\n        <path d=\"M 794 531 \nL 1825 531 \nL 1825 4091 \nL 703 3866 \nL 703 4441 \nL 1819 4666 \nL 2450 4666 \nL 2450 531 \nL 3481 531 \nL 3481 0 \nL 794 0 \nL 794 531 \nz\n\" id=\"DejaVuSans-31\" transform=\"scale(0.015625)\"/>\n       </defs>\n       <use xlink:href=\"#DejaVuSans-31\"/>\n       <use x=\"63.623047\" xlink:href=\"#DejaVuSans-2e\"/>\n       <use x=\"95.410156\" xlink:href=\"#DejaVuSans-30\"/>\n       <use x=\"159.033203\" xlink:href=\"#DejaVuSans-30\"/>\n      </g>\n     </g>\n    </g>\n   </g>\n   <g id=\"matplotlib.axis_2\">\n    <g id=\"ytick_1\">\n     <g id=\"line2d_9\">\n      <defs>\n       <path d=\"M 0 0 \nL -3.5 0 \n\" id=\"me70720ecb9\" style=\"stroke:#000000;stroke-width:0.8;\"/>\n      </defs>\n      <g>\n       <use style=\"stroke:#000000;stroke-width:0.8;\" x=\"44.845313\" xlink:href=\"#me70720ecb9\" y=\"227.797422\"/>\n      </g>\n     </g>\n     <g id=\"text_9\">\n      <!-- −0.75 -->\n      <g transform=\"translate(7.2 231.596641)scale(0.1 -0.1)\">\n       <use xlink:href=\"#DejaVuSans-2212\"/>\n       <use x=\"83.789062\" xlink:href=\"#DejaVuSans-30\"/>\n       <use x=\"147.412109\" xlink:href=\"#DejaVuSans-2e\"/>\n       <use x=\"179.199219\" xlink:href=\"#DejaVuSans-37\"/>\n       <use x=\"242.822266\" xlink:href=\"#DejaVuSans-35\"/>\n      </g>\n     </g>\n    </g>\n    <g id=\"ytick_2\">\n     <g id=\"line2d_10\">\n      <g>\n       <use style=\"stroke:#000000;stroke-width:0.8;\" x=\"44.845313\" xlink:href=\"#me70720ecb9\" y=\"201.492126\"/>\n      </g>\n     </g>\n     <g id=\"text_10\">\n      <!-- −0.50 -->\n      <g transform=\"translate(7.2 205.291345)scale(0.1 -0.1)\">\n       <use xlink:href=\"#DejaVuSans-2212\"/>\n       <use x=\"83.789062\" xlink:href=\"#DejaVuSans-30\"/>\n       <use x=\"147.412109\" xlink:href=\"#DejaVuSans-2e\"/>\n       <use x=\"179.199219\" xlink:href=\"#DejaVuSans-35\"/>\n       <use x=\"242.822266\" xlink:href=\"#DejaVuSans-30\"/>\n      </g>\n     </g>\n    </g>\n    <g id=\"ytick_3\">\n     <g id=\"line2d_11\">\n      <g>\n       <use style=\"stroke:#000000;stroke-width:0.8;\" x=\"44.845313\" xlink:href=\"#me70720ecb9\" y=\"175.18683\"/>\n      </g>\n     </g>\n     <g id=\"text_11\">\n      <!-- −0.25 -->\n      <g transform=\"translate(7.2 178.986049)scale(0.1 -0.1)\">\n       <use xlink:href=\"#DejaVuSans-2212\"/>\n       <use x=\"83.789062\" xlink:href=\"#DejaVuSans-30\"/>\n       <use x=\"147.412109\" xlink:href=\"#DejaVuSans-2e\"/>\n       <use x=\"179.199219\" xlink:href=\"#DejaVuSans-32\"/>\n       <use x=\"242.822266\" xlink:href=\"#DejaVuSans-35\"/>\n      </g>\n     </g>\n    </g>\n    <g id=\"ytick_4\">\n     <g id=\"line2d_12\">\n      <g>\n       <use style=\"stroke:#000000;stroke-width:0.8;\" x=\"44.845313\" xlink:href=\"#me70720ecb9\" y=\"148.881534\"/>\n      </g>\n     </g>\n     <g id=\"text_12\">\n      <!-- 0.00 -->\n      <g transform=\"translate(15.579688 152.680752)scale(0.1 -0.1)\">\n       <use xlink:href=\"#DejaVuSans-30\"/>\n       <use x=\"63.623047\" xlink:href=\"#DejaVuSans-2e\"/>\n       <use x=\"95.410156\" xlink:href=\"#DejaVuSans-30\"/>\n       <use x=\"159.033203\" xlink:href=\"#DejaVuSans-30\"/>\n      </g>\n     </g>\n    </g>\n    <g id=\"ytick_5\">\n     <g id=\"line2d_13\">\n      <g>\n       <use style=\"stroke:#000000;stroke-width:0.8;\" x=\"44.845313\" xlink:href=\"#me70720ecb9\" y=\"122.576237\"/>\n      </g>\n     </g>\n     <g id=\"text_13\">\n      <!-- 0.25 -->\n      <g transform=\"translate(15.579688 126.375456)scale(0.1 -0.1)\">\n       <use xlink:href=\"#DejaVuSans-30\"/>\n       <use x=\"63.623047\" xlink:href=\"#DejaVuSans-2e\"/>\n       <use x=\"95.410156\" xlink:href=\"#DejaVuSans-32\"/>\n       <use x=\"159.033203\" xlink:href=\"#DejaVuSans-35\"/>\n      </g>\n     </g>\n    </g>\n    <g id=\"ytick_6\">\n     <g id=\"line2d_14\">\n      <g>\n       <use style=\"stroke:#000000;stroke-width:0.8;\" x=\"44.845313\" xlink:href=\"#me70720ecb9\" y=\"96.270941\"/>\n      </g>\n     </g>\n     <g id=\"text_14\">\n      <!-- 0.50 -->\n      <g transform=\"translate(15.579688 100.07016)scale(0.1 -0.1)\">\n       <use xlink:href=\"#DejaVuSans-30\"/>\n       <use x=\"63.623047\" xlink:href=\"#DejaVuSans-2e\"/>\n       <use x=\"95.410156\" xlink:href=\"#DejaVuSans-35\"/>\n       <use x=\"159.033203\" xlink:href=\"#DejaVuSans-30\"/>\n      </g>\n     </g>\n    </g>\n    <g id=\"ytick_7\">\n     <g id=\"line2d_15\">\n      <g>\n       <use style=\"stroke:#000000;stroke-width:0.8;\" x=\"44.845313\" xlink:href=\"#me70720ecb9\" y=\"69.965645\"/>\n      </g>\n     </g>\n     <g id=\"text_15\">\n      <!-- 0.75 -->\n      <g transform=\"translate(15.579688 73.764863)scale(0.1 -0.1)\">\n       <use xlink:href=\"#DejaVuSans-30\"/>\n       <use x=\"63.623047\" xlink:href=\"#DejaVuSans-2e\"/>\n       <use x=\"95.410156\" xlink:href=\"#DejaVuSans-37\"/>\n       <use x=\"159.033203\" xlink:href=\"#DejaVuSans-35\"/>\n      </g>\n     </g>\n    </g>\n    <g id=\"ytick_8\">\n     <g id=\"line2d_16\">\n      <g>\n       <use style=\"stroke:#000000;stroke-width:0.8;\" x=\"44.845313\" xlink:href=\"#me70720ecb9\" y=\"43.660348\"/>\n      </g>\n     </g>\n     <g id=\"text_16\">\n      <!-- 1.00 -->\n      <g transform=\"translate(15.579688 47.459567)scale(0.1 -0.1)\">\n       <use xlink:href=\"#DejaVuSans-31\"/>\n       <use x=\"63.623047\" xlink:href=\"#DejaVuSans-2e\"/>\n       <use x=\"95.410156\" xlink:href=\"#DejaVuSans-30\"/>\n       <use x=\"159.033203\" xlink:href=\"#DejaVuSans-30\"/>\n      </g>\n     </g>\n    </g>\n   </g>\n   <g id=\"patch_3\">\n    <path d=\"M 44.845313 239.758125 \nL 44.845313 22.318125 \n\" style=\"fill:none;stroke:#000000;stroke-linecap:square;stroke-linejoin:miter;stroke-width:0.8;\"/>\n   </g>\n   <g id=\"patch_4\">\n    <path d=\"M 379.645313 239.758125 \nL 379.645313 22.318125 \n\" style=\"fill:none;stroke:#000000;stroke-linecap:square;stroke-linejoin:miter;stroke-width:0.8;\"/>\n   </g>\n   <g id=\"patch_5\">\n    <path d=\"M 44.845313 239.758125 \nL 379.645313 239.758125 \n\" style=\"fill:none;stroke:#000000;stroke-linecap:square;stroke-linejoin:miter;stroke-width:0.8;\"/>\n   </g>\n   <g id=\"patch_6\">\n    <path d=\"M 44.845313 22.318125 \nL 379.645313 22.318125 \n\" style=\"fill:none;stroke:#000000;stroke-linecap:square;stroke-linejoin:miter;stroke-width:0.8;\"/>\n   </g>\n   <g id=\"text_17\">\n    <!-- Whole dataset -->\n    <g transform=\"translate(168.88875 16.318125)scale(0.12 -0.12)\">\n     <defs>\n      <path d=\"M 213 4666 \nL 850 4666 \nL 1831 722 \nL 2809 4666 \nL 3519 4666 \nL 4500 722 \nL 5478 4666 \nL 6119 4666 \nL 4947 0 \nL 4153 0 \nL 3169 4050 \nL 2175 0 \nL 1381 0 \nL 213 4666 \nz\n\" id=\"DejaVuSans-57\" transform=\"scale(0.015625)\"/>\n      <path d=\"M 3513 2113 \nL 3513 0 \nL 2938 0 \nL 2938 2094 \nQ 2938 2591 2744 2837 \nQ 2550 3084 2163 3084 \nQ 1697 3084 1428 2787 \nQ 1159 2491 1159 1978 \nL 1159 0 \nL 581 0 \nL 581 4863 \nL 1159 4863 \nL 1159 2956 \nQ 1366 3272 1645 3428 \nQ 1925 3584 2291 3584 \nQ 2894 3584 3203 3211 \nQ 3513 2838 3513 2113 \nz\n\" id=\"DejaVuSans-68\" transform=\"scale(0.015625)\"/>\n      <path d=\"M 1959 3097 \nQ 1497 3097 1228 2736 \nQ 959 2375 959 1747 \nQ 959 1119 1226 758 \nQ 1494 397 1959 397 \nQ 2419 397 2687 759 \nQ 2956 1122 2956 1747 \nQ 2956 2369 2687 2733 \nQ 2419 3097 1959 3097 \nz\nM 1959 3584 \nQ 2709 3584 3137 3096 \nQ 3566 2609 3566 1747 \nQ 3566 888 3137 398 \nQ 2709 -91 1959 -91 \nQ 1206 -91 779 398 \nQ 353 888 353 1747 \nQ 353 2609 779 3096 \nQ 1206 3584 1959 3584 \nz\n\" id=\"DejaVuSans-6f\" transform=\"scale(0.015625)\"/>\n      <path d=\"M 603 4863 \nL 1178 4863 \nL 1178 0 \nL 603 0 \nL 603 4863 \nz\n\" id=\"DejaVuSans-6c\" transform=\"scale(0.015625)\"/>\n      <path d=\"M 3597 1894 \nL 3597 1613 \nL 953 1613 \nQ 991 1019 1311 708 \nQ 1631 397 2203 397 \nQ 2534 397 2845 478 \nQ 3156 559 3463 722 \nL 3463 178 \nQ 3153 47 2828 -22 \nQ 2503 -91 2169 -91 \nQ 1331 -91 842 396 \nQ 353 884 353 1716 \nQ 353 2575 817 3079 \nQ 1281 3584 2069 3584 \nQ 2775 3584 3186 3129 \nQ 3597 2675 3597 1894 \nz\nM 3022 2063 \nQ 3016 2534 2758 2815 \nQ 2500 3097 2075 3097 \nQ 1594 3097 1305 2825 \nQ 1016 2553 972 2059 \nL 3022 2063 \nz\n\" id=\"DejaVuSans-65\" transform=\"scale(0.015625)\"/>\n      <path id=\"DejaVuSans-20\" transform=\"scale(0.015625)\"/>\n      <path d=\"M 2906 2969 \nL 2906 4863 \nL 3481 4863 \nL 3481 0 \nL 2906 0 \nL 2906 525 \nQ 2725 213 2448 61 \nQ 2172 -91 1784 -91 \nQ 1150 -91 751 415 \nQ 353 922 353 1747 \nQ 353 2572 751 3078 \nQ 1150 3584 1784 3584 \nQ 2172 3584 2448 3432 \nQ 2725 3281 2906 2969 \nz\nM 947 1747 \nQ 947 1113 1208 752 \nQ 1469 391 1925 391 \nQ 2381 391 2643 752 \nQ 2906 1113 2906 1747 \nQ 2906 2381 2643 2742 \nQ 2381 3103 1925 3103 \nQ 1469 3103 1208 2742 \nQ 947 2381 947 1747 \nz\n\" id=\"DejaVuSans-64\" transform=\"scale(0.015625)\"/>\n      <path d=\"M 2194 1759 \nQ 1497 1759 1228 1600 \nQ 959 1441 959 1056 \nQ 959 750 1161 570 \nQ 1363 391 1709 391 \nQ 2188 391 2477 730 \nQ 2766 1069 2766 1631 \nL 2766 1759 \nL 2194 1759 \nz\nM 3341 1997 \nL 3341 0 \nL 2766 0 \nL 2766 531 \nQ 2569 213 2275 61 \nQ 1981 -91 1556 -91 \nQ 1019 -91 701 211 \nQ 384 513 384 1019 \nQ 384 1609 779 1909 \nQ 1175 2209 1959 2209 \nL 2766 2209 \nL 2766 2266 \nQ 2766 2663 2505 2880 \nQ 2244 3097 1772 3097 \nQ 1472 3097 1187 3025 \nQ 903 2953 641 2809 \nL 641 3341 \nQ 956 3463 1253 3523 \nQ 1550 3584 1831 3584 \nQ 2591 3584 2966 3190 \nQ 3341 2797 3341 1997 \nz\n\" id=\"DejaVuSans-61\" transform=\"scale(0.015625)\"/>\n      <path d=\"M 1172 4494 \nL 1172 3500 \nL 2356 3500 \nL 2356 3053 \nL 1172 3053 \nL 1172 1153 \nQ 1172 725 1289 603 \nQ 1406 481 1766 481 \nL 2356 481 \nL 2356 0 \nL 1766 0 \nQ 1100 0 847 248 \nQ 594 497 594 1153 \nL 594 3053 \nL 172 3053 \nL 172 3500 \nL 594 3500 \nL 594 4494 \nL 1172 4494 \nz\n\" id=\"DejaVuSans-74\" transform=\"scale(0.015625)\"/>\n      <path d=\"M 2834 3397 \nL 2834 2853 \nQ 2591 2978 2328 3040 \nQ 2066 3103 1784 3103 \nQ 1356 3103 1142 2972 \nQ 928 2841 928 2578 \nQ 928 2378 1081 2264 \nQ 1234 2150 1697 2047 \nL 1894 2003 \nQ 2506 1872 2764 1633 \nQ 3022 1394 3022 966 \nQ 3022 478 2636 193 \nQ 2250 -91 1575 -91 \nQ 1294 -91 989 -36 \nQ 684 19 347 128 \nL 347 722 \nQ 666 556 975 473 \nQ 1284 391 1588 391 \nQ 1994 391 2212 530 \nQ 2431 669 2431 922 \nQ 2431 1156 2273 1281 \nQ 2116 1406 1581 1522 \nL 1381 1569 \nQ 847 1681 609 1914 \nQ 372 2147 372 2553 \nQ 372 3047 722 3315 \nQ 1072 3584 1716 3584 \nQ 2034 3584 2315 3537 \nQ 2597 3491 2834 3397 \nz\n\" id=\"DejaVuSans-73\" transform=\"scale(0.015625)\"/>\n     </defs>\n     <use xlink:href=\"#DejaVuSans-57\"/>\n     <use x=\"98.876953\" xlink:href=\"#DejaVuSans-68\"/>\n     <use x=\"162.255859\" xlink:href=\"#DejaVuSans-6f\"/>\n     <use x=\"223.4375\" xlink:href=\"#DejaVuSans-6c\"/>\n     <use x=\"251.220703\" xlink:href=\"#DejaVuSans-65\"/>\n     <use x=\"312.744141\" xlink:href=\"#DejaVuSans-20\"/>\n     <use x=\"344.53125\" xlink:href=\"#DejaVuSans-64\"/>\n     <use x=\"408.007812\" xlink:href=\"#DejaVuSans-61\"/>\n     <use x=\"469.287109\" xlink:href=\"#DejaVuSans-74\"/>\n     <use x=\"508.496094\" xlink:href=\"#DejaVuSans-61\"/>\n     <use x=\"569.775391\" xlink:href=\"#DejaVuSans-73\"/>\n     <use x=\"621.875\" xlink:href=\"#DejaVuSans-65\"/>\n     <use x=\"683.398438\" xlink:href=\"#DejaVuSans-74\"/>\n    </g>\n   </g>\n  </g>\n </g>\n <defs>\n  <clipPath id=\"p21b2804a03\">\n   <rect height=\"217.44\" width=\"334.8\" x=\"44.845313\" y=\"22.318125\"/>\n  </clipPath>\n </defs>\n</svg>\n",
      "image/png": "[encoded data removed]"
     },
     "metadata": {
      "needs_background": "light"
     }
    }
   ],
   "source": [
    "print_scatter(file, \"Whole dataset\")"
   ]
  },
  {
   "source": [
    "# Data Cleaning"
   ],
   "cell_type": "markdown",
   "metadata": {}
  },
  {
   "cell_type": "code",
   "execution_count": 517,
   "id": "bdc5885e",
   "metadata": {},
   "outputs": [],
   "source": [
    "X = training_set[:, :-1]\n",
    "Y = training_set[:, [-1]]"
   ]
  },
  {
   "source": [
    "# Utility Functions"
   ],
   "cell_type": "markdown",
   "metadata": {}
  },
  {
   "cell_type": "code",
   "execution_count": 518,
   "id": "b34913dd",
   "metadata": {},
   "outputs": [],
   "source": [
    "def sigmoid(x):\n",
    "    return 1 / (1 + np.exp(-x))"
   ]
  },
  {
   "cell_type": "code",
   "execution_count": 519,
   "id": "3b7e9b5b",
   "metadata": {},
   "outputs": [],
   "source": [
    "def stick_column_with_one(X):\n",
    "    n = X.shape[0]\n",
    "    ones = np.ones((n, 1))\n",
    "    return np.hstack((ones, X))"
   ]
  },
  {
   "cell_type": "code",
   "execution_count": 520,
   "metadata": {},
   "outputs": [],
   "source": [
    "def feature_mapping(x_calc, degree):\n",
    "    # this can be done for any number of features by permutations.\n",
    "    # i'm too lazy to do it rn\n",
    "    x1 = x_calc[:, [0]]\n",
    "    x2 = x_calc[:, [1]]\n",
    "    for i in range(2, degree+1):\n",
    "        for j in range(0, i+1):\n",
    "            x1power = x1**j\n",
    "            x2power = x2**(i-j)\n",
    "            x_calc = np.append(x_calc, x1power * x2power, axis=1)\n",
    "    return x_calc"
   ]
  },
  {
   "source": [
    "# Training the parameters"
   ],
   "cell_type": "markdown",
   "metadata": {}
  },
  {
   "source": [
    "# The gradient descent function for logistic regression\n",
    "def gradient_descent(X, Y, learning_rate, num_iters, degree=2):\n",
    "    # normalizing the input and formatting\n",
    "    x_min = X.min(axis=0, keepdims=True)\n",
    "    x_max = X.max(axis=0, keepdims=True)\n",
    "    x_calc = (X - x_min) / (x_max - x_min)\n",
    "\n",
    "    # feature mapping\n",
    "    x_calc = feature_mapping(x_calc, degree)\n",
    "    \n",
    "    x_calc = stick_column_with_one(x_calc)\n",
    "\n",
    "    n, d = x_calc.shape\n",
    "    theta = np.zeros((d, 1))\n",
    "\n",
    "    for _ in range(num_iters):\n",
    "        prediction = sigmoid(np.matmul(x_calc, theta))\n",
    "        error = Y - prediction\n",
    "        theta += (learning_rate/n) * (x_calc.T @ error)\n",
    "\n",
    "    def predict(x_predict, params=False):\n",
    "        \"\"\"predicts value based on training, returns parameters if params=True\"\"\"\n",
    "        if (params):\n",
    "            return theta\n",
    "        # normalize\n",
    "        x_c = (x_predict - x_min) / (x_max - x_min)\n",
    "        # feaure map\n",
    "        x_c = feature_mapping(x_c, degree)\n",
    "        x_c = stick_column_with_one(x_c)\n",
    "        # sigmoid and predict\n",
    "        our_prediction = sigmoid(np.matmul(x_c, theta))\n",
    "        return np.where(our_prediction >= 0.5, 1, 0)\n",
    "\n",
    "    return predict"
   ],
   "cell_type": "code",
   "metadata": {},
   "execution_count": 521,
   "outputs": []
  },
  {
   "source": [
    "# Predicting"
   ],
   "cell_type": "markdown",
   "metadata": {}
  },
  {
   "cell_type": "code",
   "execution_count": 522,
   "id": "f0ee29e5",
   "metadata": {
    "scrolled": false
   },
   "outputs": [],
   "source": [
    "predictor = gradient_descent(X, Y, 0.1, 100000, 6)"
   ]
  },
  {
   "cell_type": "markdown",
   "id": "7d12985f",
   "metadata": {},
   "source": [
    "The values of thetas are printed below"
   ]
  },
  {
   "cell_type": "code",
   "execution_count": 523,
   "id": "c31a7f47",
   "metadata": {},
   "outputs": [
    {
     "output_type": "stream",
     "name": "stdout",
     "text": [
      "[[-7.96199978]\n [15.77869641]\n [13.24695843]\n [-2.34664817]\n [14.22292416]\n [-4.24645091]\n [-5.93628941]\n [ 2.42598478]\n [-2.14645111]\n [-5.94887119]\n [-4.63512863]\n [-2.30139138]\n [-5.3826813 ]\n [-4.4335725 ]\n [-3.57889641]\n [-1.86467315]\n [-4.00641387]\n [-6.41663375]\n [-5.01217785]\n [-3.08081699]\n [-1.90742782]\n [ 1.03319815]\n [-4.32873741]\n [-6.62919329]\n [-5.07816007]\n [-2.91871287]\n [-1.74031967]\n [-1.49208292]]\n"
     ]
    }
   ],
   "source": [
    "print(predictor(0, 1))"
   ]
  },
  {
   "source": [
    "# Testing the Accuracy"
   ],
   "cell_type": "markdown",
   "metadata": {}
  },
  {
   "cell_type": "code",
   "execution_count": 524,
   "id": "a2d82f1a",
   "metadata": {},
   "outputs": [
    {
     "output_type": "stream",
     "name": "stdout",
     "text": [
      "0.7916666666666666\n"
     ]
    }
   ],
   "source": [
    "testing_xs = testing_set[:, :-1]\n",
    "testing_ys = testing_set[:, [-1]]\n",
    "predicted_ys = predictor(testing_xs)\n",
    "total_predictions = predicted_ys.size\n",
    "accuracy = (predicted_ys == testing_ys).sum() / total_predictions\n",
    "print(accuracy)"
   ]
  },
  {
   "cell_type": "code",
   "execution_count": null,
   "metadata": {},
   "outputs": [],
   "source": []
  }
 ],
 "metadata": {
  "kernelspec": {
   "display_name": "Python 3",
   "language": "python",
   "name": "python3"
  },
  "language_info": {
   "codemirror_mode": {
    "name": "ipython",
    "version": 3
   },
   "file_extension": ".py",
   "mimetype": "text/x-python",
   "name": "python",
   "nbconvert_exporter": "python",
   "pygments_lexer": "ipython3",
   "version": "3.9.6-final"
  }
 },
 "nbformat": 4,
 "nbformat_minor": 5
}